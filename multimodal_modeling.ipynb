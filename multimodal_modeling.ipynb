{
 "cells": [
  {
   "cell_type": "code",
   "execution_count": null,
   "metadata": {},
   "outputs": [],
   "source": [
    "import torch, os, random\n",
    "import torch.nn as nn\n",
    "import numpy as np\n",
    "import pandas as pd\n",
    "from matplotlib import pyplot as plt\n",
    "import seaborn as sns\n",
    "from torch.utils.data import DataLoader, WeightedRandomSampler\n",
    "from torchvision import transforms\n",
    "from data_preparation.dataset import SignalDataset\n",
    "from architecture.net import ResClassificationNet, SimpleCNClassificationNet, MultiModalClassifier\n",
    "from pipeline.train import TrainingPipeline\n",
    "from sklearn.metrics import f1_score, recall_score, precision_score, accuracy_score"
   ]
  },
  {
   "cell_type": "code",
   "execution_count": null,
   "metadata": {},
   "outputs": [],
   "source": [
    "transforms = transforms.Compose([\n",
    "    transforms.RandomHorizontalFlip(p=0.5),\n",
    "    transforms.RandomVerticalFlip(p=0.5),\n",
    "    transforms.GaussianBlur(sigma=(0.001, 2), kernel_size=5),\n",
    "])\n",
    "\n",
    "transforms_p = 0.5"
   ]
  },
  {
   "cell_type": "code",
   "execution_count": null,
   "metadata": {},
   "outputs": [],
   "source": [
    "data_dir = \"data/samples\"\n",
    "\n",
    "eeg_df = pd.read_csv(os.path.join(data_dir, f\"EEG.csv\"))\n",
    "nirs_df = pd.read_csv(os.path.join(data_dir, f\"NIRS.csv\"))\n",
    "\n",
    "eeg_df = eeg_df[eeg_df[\"task\"] == \"wg\"]\n",
    "nirs_df = nirs_df[nirs_df[\"task\"] == \"wg\"]\n",
    "\n",
    "eeg_df = eeg_df.sort_values(\"path\")\n",
    "nirs_df = nirs_df.sort_values(\"path\")"
   ]
  },
  {
   "cell_type": "code",
   "execution_count": null,
   "metadata": {},
   "outputs": [],
   "source": [
    "eeg_df.head()"
   ]
  },
  {
   "cell_type": "code",
   "execution_count": null,
   "metadata": {},
   "outputs": [],
   "source": [
    "eeg_df[\"timestep\"].max()"
   ]
  },
  {
   "cell_type": "code",
   "execution_count": null,
   "metadata": {},
   "outputs": [],
   "source": [
    "nirs_df.head()"
   ]
  },
  {
   "cell_type": "code",
   "execution_count": null,
   "metadata": {},
   "outputs": [],
   "source": [
    "df = pd.DataFrame()\n",
    "df[\"eeg_path\"] = eeg_df[\"path\"].values\n",
    "df[\"nirs_path\"] = nirs_df[\"path\"].values\n",
    "df[[\"task\", \"datatype\", \"class_name\"]] = eeg_df[[\"task\", \"datatype\", \"class_name\"]].values\n",
    "df = df.sample(frac=1.0)\n",
    "df.head()"
   ]
  },
  {
   "cell_type": "code",
   "execution_count": null,
   "metadata": {},
   "outputs": [],
   "source": [
    "task = \"wg\"\n",
    "t_eeg_size = 1500\n",
    "t_nirs_size = 300\n",
    "train_size = 0.9\n",
    "signal = \"multimodal\"\n",
    "onehot_labels = False\n",
    "use_rp = False"
   ]
  },
  {
   "cell_type": "code",
   "execution_count": null,
   "metadata": {},
   "outputs": [],
   "source": [
    "training_dataset = SignalDataset(\n",
    "    data_dir, \n",
    "    meta_df=df,\n",
    "    signal=signal,\n",
    "    task=task, \n",
    "    sample_size=train_size, \n",
    "    t_eeg_size = t_eeg_size,\n",
    "    t_nirs_size=t_nirs_size,\n",
    "    use_rp=use_rp,\n",
    "    onehot_labels=onehot_labels,\n",
    "    transforms=transforms,\n",
    "    transforms_p=transforms_p\n",
    ")\n",
    "\n",
    "eval_dataset = SignalDataset(\n",
    "    data_dir,\n",
    "    meta_df=df,\n",
    "    signal=signal, \n",
    "    task=task, \n",
    "    excluded_paths=training_dataset.meta_df[\"eeg_path\"].tolist(),\n",
    "    t_eeg_size = t_eeg_size, \n",
    "    t_nirs_size=t_nirs_size,\n",
    "    use_rp=use_rp,\n",
    "    onehot_labels=onehot_labels,\n",
    ")"
   ]
  },
  {
   "cell_type": "code",
   "execution_count": null,
   "metadata": {},
   "outputs": [],
   "source": [
    "eeg_signals, nirs_oxy_signals, nirs_deoxy_signals, labels = training_dataset[0]\n",
    "\n",
    "print(eeg_signals.shape, nirs_oxy_signals.shape, nirs_oxy_signals.shape)"
   ]
  },
  {
   "cell_type": "code",
   "execution_count": null,
   "metadata": {},
   "outputs": [],
   "source": [
    "fig, axs = plt.subplots(1, 2, figsize=(15, 5))\n",
    "sns.countplot(training_dataset.meta_df, x=\"class_name\", ax=axs[0])\n",
    "axs[0].set_title(\"class count plot for training samples\")\n",
    "\n",
    "sns.countplot(eval_dataset.meta_df, x=\"class_name\", ax=axs[1])\n",
    "axs[1].set_title(\"class count plot for evaluation samples\")\n",
    "plt.show()"
   ]
  },
  {
   "cell_type": "code",
   "execution_count": null,
   "metadata": {},
   "outputs": [],
   "source": [
    "num_workers = 4\n",
    "batch_size = 32\n",
    "\n",
    "_, train_sample_weights = training_dataset.get_sample_weights()\n",
    "train_dataloader = DataLoader(\n",
    "    training_dataset, \n",
    "    num_workers=num_workers, \n",
    "    batch_size=batch_size, \n",
    "    shuffle=False,\n",
    "    sampler=WeightedRandomSampler(train_sample_weights, len(training_dataset), replacement=True)\n",
    ")\n",
    "\n",
    "_, eval_sample_weights = eval_dataset.get_sample_weights()\n",
    "eval_dataloader = DataLoader(\n",
    "    eval_dataset, \n",
    "    num_workers=num_workers,\n",
    "    batch_size=batch_size,\n",
    "    shuffle=False,\n",
    "    sampler=WeightedRandomSampler(eval_sample_weights, len(eval_dataset), replacement=True)\n",
    ")"
   ]
  },
  {
   "cell_type": "code",
   "execution_count": null,
   "metadata": {},
   "outputs": [],
   "source": [
    "n_eeg_channels = 30\n",
    "n_nirs_channels = 36\n",
    "prediction_weights = {\n",
    "    \"eeg_w\" : 1/3,\n",
    "    \"nirs_oxy_w\" : 1/3,\n",
    "    \"nirs_deoxy_w\" : 1/3,\n",
    "}\n",
    "num_classes = len(training_dataset.get_label_names())\n",
    "dropout = 0.1\n",
    "# network = \"resnet18\"\n",
    "# pretrained_weights = None #\"DEFAULT\"\n",
    "track_grads = True\n",
    "lr = 1e-4\n",
    "min_lr = 1e-6\n",
    "weight_decay = 0.0\n",
    "betas = (0.9, 0.9999)\n",
    "device = \"cuda\" if torch.cuda.is_available() else \"cpu\"\n",
    "T_0 = 20\n",
    "T_mult = 2\n",
    "model_folder = \"saved_model\"\n",
    "model_name = f\"{signal}_{task}_model.pth.tar\""
   ]
  },
  {
   "cell_type": "code",
   "execution_count": null,
   "metadata": {},
   "outputs": [],
   "source": [
    "eeg_model = SimpleCNClassificationNet(n_eeg_channels, t_eeg_size, num_classes=num_classes, dropout=dropout)\n",
    "nirs_oxy_model = SimpleCNClassificationNet(n_nirs_channels, t_nirs_size, num_classes=num_classes, dropout=dropout)\n",
    "nirs_deoxy_model = SimpleCNClassificationNet(n_nirs_channels, t_nirs_size, num_classes=num_classes, dropout=dropout)\n",
    "\n",
    "classifier = MultiModalClassifier(\n",
    "    eeg_model, \n",
    "    nirs_oxy_model, \n",
    "    nirs_deoxy_model, \n",
    "    **prediction_weights)\n",
    "\n",
    "optimizer = torch.optim.Adam(classifier.parameters(), lr=lr, weight_decay=weight_decay, betas=betas)\n",
    "lossfunc = nn.BCELoss() if onehot_labels else nn.CrossEntropyLoss()\n",
    "\n",
    "# define pipeline\n",
    "pipeline = TrainingPipeline(\n",
    "    classifier, \n",
    "    lossfunc, \n",
    "    optimizer, \n",
    "    device, \n",
    "    weight_init=True, \n",
    "    dirname=model_folder, \n",
    "    filename=model_name,\n",
    "    onehot_labels=onehot_labels,\n",
    ")\n",
    "\n",
    "# lr scheduler\n",
    "lr_scheduler = torch.optim.lr_scheduler.CosineAnnealingWarmRestarts(\n",
    "    pipeline.optimizer, T_0=T_0, T_mult=T_mult, eta_min=min_lr, verbose=True,\n",
    ")"
   ]
  },
  {
   "cell_type": "code",
   "execution_count": null,
   "metadata": {},
   "outputs": [],
   "source": [
    "epochs = 140\n",
    "\n",
    "import warnings\n",
    "warnings.filterwarnings(\"ignore\")\n",
    "\n",
    "for epoch in range(epochs):\n",
    "    print(f\"epoch: {epoch+1} / {epochs}\")\n",
    "    pipeline.train(train_dataloader, verbose=True)\n",
    "    pipeline.evaluate(eval_dataloader, verbose=True)\n",
    "    lr_scheduler.step()\n",
    "    print(\"-\"*130)\n",
    "\n",
    "pipeline.plot_metrics(\"train\")\n",
    "pipeline.plot_metrics(\"eval\")"
   ]
  }
 ],
 "metadata": {
  "kernelspec": {
   "display_name": "Python 3",
   "language": "python",
   "name": "python3"
  },
  "language_info": {
   "codemirror_mode": {
    "name": "ipython",
    "version": 3
   },
   "file_extension": ".py",
   "mimetype": "text/x-python",
   "name": "python",
   "nbconvert_exporter": "python",
   "pygments_lexer": "ipython3",
   "version": "3.8.7"
  },
  "orig_nbformat": 4
 },
 "nbformat": 4,
 "nbformat_minor": 2
}
