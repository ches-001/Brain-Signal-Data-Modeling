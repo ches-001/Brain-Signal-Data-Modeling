{
 "cells": [
  {
   "cell_type": "code",
   "execution_count": null,
   "metadata": {},
   "outputs": [],
   "source": [
    "import os, torch\n",
    "import torch.nn as nn\n",
    "import numpy as np\n",
    "from matplotlib import pyplot as plt\n",
    "from torch.utils.data import DataLoader\n",
    "from data_preparation.dataset import SignalDataset\n",
    "from architecture.net import ClassifierNet\n",
    "from pipeline.train import TrainingPipeline\n",
    "from sklearn.metrics import f1_score, recall_score, precision_score, accuracy_score, confusion_matrix"
   ]
  },
  {
   "attachments": {},
   "cell_type": "markdown",
   "metadata": {},
   "source": [
    "# EEG (Electroencephalography) Data Modeling"
   ]
  },
  {
   "cell_type": "code",
   "execution_count": null,
   "metadata": {},
   "outputs": [],
   "source": [
    "t_size = 100\n",
    "train_size = 0.8\n",
    "training_eeg_dataset = SignalDataset(\n",
    "    \"data/samples\", \n",
    "    signal=\"EEG\",\n",
    "    task=\"nback\", \n",
    "    sample_size=train_size, \n",
    "    t_size=t_size\n",
    ")\n",
    "\n",
    "eval_eeg_dataset = SignalDataset(\n",
    "    \"data/samples\", \n",
    "    signal=\"EEG\", \n",
    "    task=\"nback\", \n",
    "    excluded=training_eeg_dataset.segment_files, \n",
    "    t_size=t_size\n",
    ")\n",
    "\n",
    "print(f\"Number of train samples: {len(training_eeg_dataset)}\")\n",
    "print(f\"Number of eval samples: {len(eval_eeg_dataset)}\")"
   ]
  },
  {
   "cell_type": "code",
   "execution_count": null,
   "metadata": {},
   "outputs": [],
   "source": [
    "num_workers = 4\n",
    "batch_size = 16\n",
    "train_eeg_dataloader = DataLoader(training_eeg_dataset, num_workers=num_workers, batch_size=batch_size, shuffle=True)\n",
    "eval_eeg_dataloader = DataLoader(eval_eeg_dataset, num_workers=num_workers, batch_size=batch_size, shuffle=True)"
   ]
  },
  {
   "cell_type": "code",
   "execution_count": null,
   "metadata": {},
   "outputs": [],
   "source": [
    "sample_signal, label = training_eeg_dataset[12]\n",
    "\n",
    "print(f\"sample shape: {sample_signal.shape}\")\n",
    "\n",
    "plt.figure(figsize=(20, 5))\n",
    "for ch in sample_signal.squeeze():\n",
    "    plt.plot(ch)\n",
    "plt.title(\"EEG signals\")\n",
    "plt.xlabel(\"Timesteps\")\n",
    "plt.ylabel(\"Channel readings\")\n",
    "plt.show()"
   ]
  },
  {
   "cell_type": "code",
   "execution_count": null,
   "metadata": {},
   "outputs": [],
   "source": [
    "in_channels = 1\n",
    "num_classes = len(training_eeg_dataset.get_label_names())\n",
    "dropout = 0.0\n",
    "network = \"resnet18\"\n",
    "pretrained_weights = None #\"DEFAULT\"\n",
    "track_grads = True\n",
    "lr = 1e-3\n",
    "weight_decay = 0.0\n",
    "betas = (0.9, 0.999)\n",
    "device = \"cuda\" if torch.cuda.is_available() else \"cpu\""
   ]
  },
  {
   "cell_type": "code",
   "execution_count": null,
   "metadata": {},
   "outputs": [],
   "source": [
    "eeg_classifier = ClassifierNet(in_channels, num_classes, dropout, network, pretrained_weights, track_grads)\n",
    "optimizer = torch.optim.Adam(eeg_classifier.parameters(), lr=lr, weight_decay=weight_decay, betas=betas)\n",
    "lossfunc = nn.CrossEntropyLoss()\n",
    "\n",
    "# define pipeline\n",
    "pipeline = TrainingPipeline(eeg_classifier, lossfunc, optimizer, device, weight_init=False)"
   ]
  },
  {
   "cell_type": "code",
   "execution_count": null,
   "metadata": {},
   "outputs": [],
   "source": [
    "epochs = 10\n",
    "\n",
    "import warnings\n",
    "warnings.filterwarnings(\"ignore\")\n",
    "\n",
    "for epoch in range(epochs):\n",
    "    pipeline.train(train_eeg_dataloader, verbose=True)\n",
    "    pipeline.evaluate(eval_eeg_dataloader, verbose=True)"
   ]
  }
 ],
 "metadata": {
  "kernelspec": {
   "display_name": "Python 3",
   "language": "python",
   "name": "python3"
  },
  "language_info": {
   "codemirror_mode": {
    "name": "ipython",
    "version": 3
   },
   "file_extension": ".py",
   "mimetype": "text/x-python",
   "name": "python",
   "nbconvert_exporter": "python",
   "pygments_lexer": "ipython3",
   "version": "3.8.7rc1"
  },
  "orig_nbformat": 4
 },
 "nbformat": 4,
 "nbformat_minor": 2
}
