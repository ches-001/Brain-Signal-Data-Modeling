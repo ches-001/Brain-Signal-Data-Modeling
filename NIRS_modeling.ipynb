{
 "cells": [
  {
   "attachments": {},
   "cell_type": "markdown",
   "metadata": {},
   "source": [
    "# **NIRS (Spectroscopy) Data Modeling**"
   ]
  },
  {
   "cell_type": "code",
   "execution_count": null,
   "metadata": {},
   "outputs": [],
   "source": [
    "import torch\n",
    "import torch.nn as nn\n",
    "import numpy as np\n",
    "from matplotlib import pyplot as plt\n",
    "import seaborn as sns\n",
    "from torch.utils.data import DataLoader, WeightedRandomSampler\n",
    "from data_preparation.dataset import SignalDataset\n",
    "from architecture.net import ClassifierNet\n",
    "from pipeline.train import TrainingPipeline\n",
    "from sklearn.metrics import f1_score, recall_score, precision_score, accuracy_score"
   ]
  },
  {
   "attachments": {},
   "cell_type": "markdown",
   "metadata": {},
   "source": [
    "# 1. Load Data"
   ]
  },
  {
   "cell_type": "code",
   "execution_count": null,
   "metadata": {},
   "outputs": [],
   "source": [
    "task = \"nback\"\n",
    "t_size = 300\n",
    "train_size = 0.9\n",
    "data_dir = \"data/samples\"\n",
    "onehot_labels=True,\n",
    "\n",
    "training_nirs_dataset = SignalDataset(\n",
    "    data_dir, \n",
    "    signal=\"NIRS\",\n",
    "    task=task, \n",
    "    sample_size=train_size, \n",
    "    t_size=t_size,\n",
    "    hemoglobin=\"oxy\",\n",
    "    use_spectrogram=False,\n",
    "    onehot_labels=onehot_labels,\n",
    ")\n",
    "\n",
    "eval_nirs_dataset = SignalDataset(\n",
    "    data_dir, \n",
    "    signal=\"NIRS\", \n",
    "    task=task, \n",
    "    excluded=training_nirs_dataset.segment_files, \n",
    "    t_size=t_size,\n",
    "    hemoglobin=\"oxy\",\n",
    "    use_spectrogram=False,\n",
    "    onehot_labels=onehot_labels,\n",
    ")\n",
    "\n",
    "print(f\"Number of train samples: {len(training_nirs_dataset)}\")\n",
    "print(f\"Number of eval samples: {len(eval_nirs_dataset)}\")\n",
    "print(f\"Number of classes: {len(training_nirs_dataset.get_label_names())}\")\n",
    "print(f\"Class names: {training_nirs_dataset.get_label_names()}\")"
   ]
  },
  {
   "attachments": {},
   "cell_type": "markdown",
   "metadata": {},
   "source": [
    "# 2. Visualise a Sample"
   ]
  },
  {
   "cell_type": "code",
   "execution_count": null,
   "metadata": {},
   "outputs": [],
   "source": [
    "sample_signal, label = training_nirs_dataset[0]\n",
    "print(sample_signal.shape)\n",
    "\n",
    "plt.figure(figsize=(20, 5))\n",
    "if training_nirs_dataset.use_spectrogram:\n",
    "    if training_nirs_dataset.avg_spectrogram_ch:\n",
    "        print(f\"spectrogram kwargs: {training_nirs_dataset.spectrogram_kwargs}\")\n",
    "        plt.imshow(sample_signal.squeeze())\n",
    "        plt.title(f\"Averaged Channel NIRS Spctrogram\")\n",
    "        plt.xlabel(\"Timesteps\")\n",
    "        plt.ylabel(\"Channel readings\")\n",
    "        plt.show()\n",
    "    else:\n",
    "        pass\n",
    "\n",
    "else:\n",
    "    for ch in sample_signal.squeeze():\n",
    "        plt.plot(ch)\n",
    "    plt.title(f\"All channels NIRS Time signals\")\n",
    "    plt.xlabel(\"Timesteps\")\n",
    "    plt.ylabel(\"Channel readings\")\n",
    "    plt.show()"
   ]
  },
  {
   "attachments": {},
   "cell_type": "markdown",
   "metadata": {},
   "source": [
    "# 3. Check Class Imbalance"
   ]
  },
  {
   "cell_type": "code",
   "execution_count": null,
   "metadata": {},
   "outputs": [],
   "source": [
    "train_classes = training_nirs_dataset.get_sample_classes()\n",
    "eval_classes = eval_nirs_dataset.get_sample_classes()\n",
    "\n",
    "fig, axs = plt.subplots(1, 2, figsize=(15, 5))\n",
    "sns.countplot(train_classes, x=\"class_label\", ax=axs[0])\n",
    "axs[0].set_title(\"class count plot for training samples\")\n",
    "\n",
    "sns.countplot(eval_classes, x=\"class_label\", ax=axs[1])\n",
    "axs[1].set_title(\"class count plot for evaluation samples\")\n",
    "plt.show()"
   ]
  },
  {
   "attachments": {},
   "cell_type": "markdown",
   "metadata": {},
   "source": [
    "# 4. Define DataLoader and Account for class Imbalance with a Random Weighted Sampler"
   ]
  },
  {
   "cell_type": "code",
   "execution_count": null,
   "metadata": {},
   "outputs": [],
   "source": [
    "num_workers = 4\n",
    "batch_size = 16\n",
    "\n",
    "_, train_sample_weights = training_nirs_dataset.get_sample_weights()\n",
    "train_nirs_dataloader = DataLoader(\n",
    "    training_nirs_dataset, \n",
    "    num_workers=num_workers, \n",
    "    batch_size=batch_size, \n",
    "    shuffle=False,\n",
    "    sampler=WeightedRandomSampler(train_sample_weights, len(training_nirs_dataset), replacement=True)\n",
    ")\n",
    "\n",
    "_, eval_sample_weights = eval_nirs_dataset.get_sample_weights()\n",
    "eval_nirs_dataloader = DataLoader(\n",
    "    eval_nirs_dataset, \n",
    "    num_workers=num_workers, \n",
    "    batch_size=batch_size, \n",
    "    shuffle=False, \n",
    "    sampler=WeightedRandomSampler(eval_sample_weights, len(eval_nirs_dataset), replacement=True)\n",
    ")"
   ]
  },
  {
   "attachments": {},
   "cell_type": "markdown",
   "metadata": {},
   "source": [
    "# 5. Define the Relevant Hyper-parameters and Objects for Data Modeling"
   ]
  },
  {
   "cell_type": "code",
   "execution_count": null,
   "metadata": {},
   "outputs": [],
   "source": [
    "in_channels = 1\n",
    "num_classes = len(training_nirs_dataset.get_label_names())\n",
    "dropout = 0.3\n",
    "network = \"resnet18\"\n",
    "pretrained_weights = None #\"DEFAULT\"\n",
    "track_grads = True\n",
    "lr = 1e-4\n",
    "min_lr = 1e-6\n",
    "weight_decay = 7e-6\n",
    "betas = (0.9, 0.9999)\n",
    "device = \"cuda\" if torch.cuda.is_available() else \"cpu\"\n",
    "T_0 = 40\n",
    "T_mult = 2\n",
    "model_folder = \"saved_model\"\n",
    "model_name = f\"eeg_{task}_model.pth.tar\""
   ]
  },
  {
   "cell_type": "code",
   "execution_count": null,
   "metadata": {},
   "outputs": [],
   "source": [
    "torch.manual_seed(3407)\n",
    "torch.cuda.manual_seed(3407)\n",
    "np.random.seed(3407)\n",
    "torch.backends.cudnn.deterministic = True\n",
    "torch.backends.cudnn.benchmark = False"
   ]
  },
  {
   "cell_type": "code",
   "execution_count": null,
   "metadata": {},
   "outputs": [],
   "source": [
    "nirs_classifier = ClassifierNet(in_channels, num_classes, dropout, network, pretrained_weights, track_grads)\n",
    "optimizer = torch.optim.Adam(nirs_classifier.parameters(), lr=lr, weight_decay=weight_decay, betas=betas)\n",
    "lossfunc = lossfunc = nn.BCELoss() if onehot_labels else nn.CrossEntropyLoss()\n",
    "\n",
    "# define pipeline\n",
    "pipeline = TrainingPipeline(\n",
    "    nirs_classifier, \n",
    "    lossfunc, \n",
    "    optimizer, \n",
    "    device, \n",
    "    weight_init=False, \n",
    "    dirname=model_folder, \n",
    "    filename=model_name,\n",
    "    onehot_labels=onehot_labels,\n",
    ")\n",
    "\n",
    "# lr scheduler\n",
    "lr_scheduler = torch.optim.lr_scheduler.CosineAnnealingWarmRestarts(\n",
    "    pipeline.optimizer, T_0=T_0, T_mult=T_mult, eta_min=min_lr, verbose=True\n",
    ")"
   ]
  },
  {
   "attachments": {},
   "cell_type": "markdown",
   "metadata": {},
   "source": [
    "# 6. Model the Dataset"
   ]
  },
  {
   "cell_type": "code",
   "execution_count": null,
   "metadata": {},
   "outputs": [],
   "source": [
    "epochs = 120\n",
    "\n",
    "import warnings\n",
    "warnings.filterwarnings(\"ignore\")\n",
    "\n",
    "for epoch in range(epochs):\n",
    "    print(f\"epoch: {epoch+1} / {epochs}\")\n",
    "    pipeline.train(train_nirs_dataloader, verbose=True)\n",
    "    pipeline.evaluate(eval_nirs_dataloader, verbose=True)\n",
    "    lr_scheduler.step()\n",
    "    print(\"-\"*130)\n",
    "\n",
    "pipeline.plot_metrics(\"train\")\n",
    "pipeline.plot_metrics(\"eval\")"
   ]
  }
 ],
 "metadata": {
  "kernelspec": {
   "display_name": "Python 3",
   "language": "python",
   "name": "python3"
  },
  "language_info": {
   "codemirror_mode": {
    "name": "ipython",
    "version": 3
   },
   "file_extension": ".py",
   "mimetype": "text/x-python",
   "name": "python",
   "nbconvert_exporter": "python",
   "pygments_lexer": "ipython3",
   "version": "3.8.7"
  },
  "orig_nbformat": 4
 },
 "nbformat": 4,
 "nbformat_minor": 2
}
