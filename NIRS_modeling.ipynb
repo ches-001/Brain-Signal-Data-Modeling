{
 "cells": [
  {
   "attachments": {},
   "cell_type": "markdown",
   "metadata": {},
   "source": [
    "# **NIRS (Spectroscopy) Data Modeling**"
   ]
  },
  {
   "cell_type": "code",
   "execution_count": null,
   "metadata": {},
   "outputs": [],
   "source": [
    "import torch\n",
    "import torch.nn as nn\n",
    "from matplotlib import pyplot as plt\n",
    "import seaborn as sns\n",
    "from torch.utils.data import DataLoader, WeightedRandomSampler\n",
    "from data_preparation.dataset import SignalDataset\n",
    "from architecture.net import ClassifierNet\n",
    "from pipeline.train import TrainingPipeline\n",
    "from sklearn.metrics import f1_score, recall_score, precision_score, accuracy_score"
   ]
  },
  {
   "attachments": {},
   "cell_type": "markdown",
   "metadata": {},
   "source": [
    "# 1. Load Data"
   ]
  },
  {
   "cell_type": "code",
   "execution_count": null,
   "metadata": {},
   "outputs": [],
   "source": [
    "t_size = 100\n",
    "train_size = 0.8\n",
    "training_eeg_dataset = SignalDataset(\n",
    "    \"data/samples\", \n",
    "    signal=\"NIRS\",\n",
    "    task=\"nback\", \n",
    "    sample_size=train_size, \n",
    "    t_size=t_size,\n",
    "    hemoglobin=\"oxy\",\n",
    ")\n",
    "\n",
    "eval_eeg_dataset = SignalDataset(\n",
    "    \"data/samples\", \n",
    "    signal=\"NIRS\", \n",
    "    task=\"nback\", \n",
    "    excluded=training_eeg_dataset.segment_files, \n",
    "    t_size=t_size,\n",
    "    hemoglobin=\"oxy\",\n",
    ")\n",
    "\n",
    "print(f\"Number of train samples: {len(training_eeg_dataset)}\")\n",
    "print(f\"Number of eval samples: {len(eval_eeg_dataset)}\")\n",
    "print(f\"Number of classes: {len(training_eeg_dataset.get_label_names())}\")\n",
    "print(f\"Class names: {training_eeg_dataset.get_label_names()}\")"
   ]
  },
  {
   "attachments": {},
   "cell_type": "markdown",
   "metadata": {},
   "source": [
    "# Check Class Imbalance"
   ]
  },
  {
   "cell_type": "code",
   "execution_count": null,
   "metadata": {},
   "outputs": [],
   "source": [
    "train_classes = training_eeg_dataset.get_sample_classes()\n",
    "eval_classes = eval_eeg_dataset.get_sample_classes()\n",
    "\n",
    "fig, axs = plt.subplots(1, 2, figsize=(15, 5))\n",
    "sns.countplot(train_classes, x=\"class_label\", ax=axs[0])\n",
    "axs[0].set_title(\"class count plot for training samples\")\n",
    "\n",
    "sns.countplot(eval_classes, x=\"class_label\", ax=axs[1])\n",
    "axs[1].set_title(\"class count plot for evaluation samples\")\n",
    "plt.show()"
   ]
  },
  {
   "attachments": {},
   "cell_type": "markdown",
   "metadata": {},
   "source": [
    "# 3. Define DataLoader and Account for class Imbalance with a Random Weighted Sampler"
   ]
  },
  {
   "cell_type": "code",
   "execution_count": null,
   "metadata": {},
   "outputs": [],
   "source": [
    "num_workers = 4\n",
    "batch_size = 16\n",
    "\n",
    "_, train_sample_weights = training_eeg_dataset.get_sample_weights()\n",
    "train_eeg_dataloader = DataLoader(\n",
    "    training_eeg_dataset, \n",
    "    num_workers=num_workers, \n",
    "    batch_size=batch_size, \n",
    "    shuffle=False,\n",
    "    sampler=WeightedRandomSampler(train_sample_weights, len(training_eeg_dataset), replacement=True)\n",
    ")\n",
    "\n",
    "_, eval_sample_weights = eval_eeg_dataset.get_sample_weights()\n",
    "eval_eeg_dataloader = DataLoader(\n",
    "    eval_eeg_dataset, \n",
    "    num_workers=num_workers, \n",
    "    batch_size=batch_size, \n",
    "    shuffle=False, \n",
    "    sampler=WeightedRandomSampler(eval_sample_weights, len(eval_eeg_dataset), replacement=True)\n",
    ")"
   ]
  },
  {
   "attachments": {},
   "cell_type": "markdown",
   "metadata": {},
   "source": [
    "# 4. Visualise a Sample"
   ]
  },
  {
   "cell_type": "code",
   "execution_count": null,
   "metadata": {},
   "outputs": [],
   "source": [
    "sample_signal, label = training_eeg_dataset[12]\n",
    "\n",
    "plt.figure(figsize=(20, 5))\n",
    "for ch in sample_signal.squeeze():\n",
    "    plt.plot(ch)\n",
    "plt.title(f\"NIRS signals (shape: {sample_signal.squeeze().shape})\")\n",
    "plt.xlabel(\"Timesteps\")\n",
    "plt.ylabel(\"Channel readings\")\n",
    "plt.show()"
   ]
  },
  {
   "attachments": {},
   "cell_type": "markdown",
   "metadata": {},
   "source": [
    "# 5. Define the Relevant Hyper-parameters and Objects for Data Modeling"
   ]
  },
  {
   "cell_type": "code",
   "execution_count": null,
   "metadata": {},
   "outputs": [],
   "source": [
    "in_channels = 1\n",
    "num_classes = len(training_eeg_dataset.get_label_names())\n",
    "dropout = 0.0\n",
    "network = \"resnet18\"\n",
    "pretrained_weights = None #\"DEFAULT\"\n",
    "track_grads = True\n",
    "lr = 1e-3\n",
    "min_lr = 1e-5\n",
    "weight_decay = 0.0\n",
    "betas = (0.9, 0.999)\n",
    "device = \"cuda\" if torch.cuda.is_available() else \"cpu\"\n",
    "T_0 = 10\n",
    "T_mult = 2"
   ]
  },
  {
   "cell_type": "code",
   "execution_count": null,
   "metadata": {},
   "outputs": [],
   "source": [
    "eeg_classifier = ClassifierNet(in_channels, num_classes, dropout, network, pretrained_weights, track_grads)\n",
    "optimizer = torch.optim.Adam(eeg_classifier.parameters(), lr=lr, weight_decay=weight_decay, betas=betas)\n",
    "lossfunc = nn.CrossEntropyLoss()\n",
    "\n",
    "# define pipeline\n",
    "pipeline = TrainingPipeline(eeg_classifier, lossfunc, optimizer, device, weight_init=False)\n",
    "\n",
    "# lr scheduler\n",
    "lr_scheduler = torch.optim.lr_scheduler.CosineAnnealingWarmRestarts(\n",
    "    pipeline.optimizer, T_0=T_0, T_mult=T_mult, eta_min=min_lr, verbose=True\n",
    ")"
   ]
  },
  {
   "attachments": {},
   "cell_type": "markdown",
   "metadata": {},
   "source": [
    "# 6. Model the Dataset"
   ]
  },
  {
   "cell_type": "code",
   "execution_count": null,
   "metadata": {},
   "outputs": [],
   "source": [
    "epochs = 70\n",
    "\n",
    "import warnings\n",
    "warnings.filterwarnings(\"ignore\")\n",
    "\n",
    "for epoch in range(epochs):\n",
    "    print(f\"epoch: {epoch+1} / {epochs}\")\n",
    "    pipeline.train(train_eeg_dataloader, verbose=True)\n",
    "    pipeline.evaluate(eval_eeg_dataloader, verbose=True)\n",
    "    lr_scheduler.step()\n",
    "    print(\"-\"*130)"
   ]
  }
 ],
 "metadata": {
  "kernelspec": {
   "display_name": "Python 3",
   "language": "python",
   "name": "python3"
  },
  "language_info": {
   "codemirror_mode": {
    "name": "ipython",
    "version": 3
   },
   "file_extension": ".py",
   "mimetype": "text/x-python",
   "name": "python",
   "nbconvert_exporter": "python",
   "pygments_lexer": "ipython3",
   "version": "3.8.7rc1"
  },
  "orig_nbformat": 4
 },
 "nbformat": 4,
 "nbformat_minor": 2
}
