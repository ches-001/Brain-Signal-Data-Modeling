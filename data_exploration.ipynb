{
 "cells": [
  {
   "cell_type": "code",
   "execution_count": null,
   "metadata": {},
   "outputs": [],
   "source": [
    "import os, glob\n",
    "import numpy as np\n",
    "from matplotlib import pyplot as plt\n",
    "from scipy.io import loadmat"
   ]
  },
  {
   "attachments": {},
   "cell_type": "markdown",
   "metadata": {},
   "source": [
    "# EEG (Electroencephalography) Sample Analysis"
   ]
  },
  {
   "cell_type": "code",
   "execution_count": null,
   "metadata": {},
   "outputs": [],
   "source": [
    "eeg_data_dir = \"data/samples/EEG\"\n",
    "eeg_sub_dirs = os.listdir(eeg_data_dir)\n",
    "eeg_sub_dir_file_dict = dict()\n",
    "\n",
    "for sub_dir in eeg_sub_dirs:\n",
    "    eeg_sub_dir_file_dict[sub_dir] = glob.glob(os.path.join(eeg_data_dir, sub_dir, \"**/*.mat\"), recursive=True)\n",
    "\n",
    "eeg_sub_dir_file_dict"
   ]
  },
  {
   "cell_type": "code",
   "execution_count": null,
   "metadata": {},
   "outputs": [],
   "source": []
  },
  {
   "cell_type": "code",
   "execution_count": null,
   "metadata": {},
   "outputs": [],
   "source": [
    "sample_eeg = eeg_sub_dir_file_dict[\"VP001-EEG\"]\n",
    "sample_eeg_cnt = loadmat(sample_eeg[0])[\"cnt_dsr\"]\n",
    "sample_eeg_mrk = loadmat(sample_eeg[6])[\"mrk_dsr\"]"
   ]
  },
  {
   "cell_type": "code",
   "execution_count": null,
   "metadata": {},
   "outputs": [],
   "source": [
    "print(f\"EEG cnt keys: {sample_eeg_cnt.dtype}\")\n",
    "print(f\"EEG mrk keys: {sample_eeg_mrk.dtype}\")"
   ]
  },
  {
   "cell_type": "code",
   "execution_count": null,
   "metadata": {},
   "outputs": [],
   "source": [
    "channel_eeg_labels = sample_eeg_cnt[\"clab\"][0][0][0]                                    # channel labels\n",
    "channel_eeg_labels = [ch.tolist()[0] for ch in channel_eeg_labels.tolist()]\n",
    "cnt_eeg_sfreq = sample_eeg_cnt[\"fs\"][0][0][0][0]                                        # sample frequency\n",
    "cnt_eeg_signals = sample_eeg_cnt[\"x\"][0][0]\n",
    "cnt_eeg_event_onset = sample_eeg_mrk[\"time\"][0][0].reshape(-1)                          # event / epoch onsets (millisecs)\n",
    "cnt_eeg_event_classes = sample_eeg_mrk[\"event\"][0][0][0][0][0].reshape(-1)              # classes\n",
    "cnt_eeg_ohe_event_classes = sample_eeg_mrk[\"y\"][0][0].T                                 # one hot encoded classes\n",
    "cnt_eeg_class_names = sample_eeg_mrk[\"className\"][0][0].reshape(-1)                     # class names\n",
    "zeros = np.zeros_like(cnt_eeg_ohe_event_classes, dtype=int)\n",
    "eeg_time_indices = ((cnt_eeg_event_onset / 1000) * cnt_eeg_sfreq).astype(int).tolist()  # time indices of each event onset\n",
    "eeg_time_indices.append(cnt_eeg_signals.shape[0])                                       # to capture the last segment"
   ]
  },
  {
   "cell_type": "code",
   "execution_count": null,
   "metadata": {},
   "outputs": [],
   "source": [
    "cnt_eeg_signals.shape, len(eeg_time_indices)"
   ]
  },
  {
   "cell_type": "code",
   "execution_count": null,
   "metadata": {},
   "outputs": [],
   "source": [
    "eeg_start_times = eeg_time_indices[:-1]\n",
    "eeg_end_times = eeg_time_indices[1:]\n",
    "\n",
    "eeg_epochs = []\n",
    "eeg_classes = []\n",
    "for start, end, event_label in zip(eeg_start_times, eeg_end_times, cnt_eeg_event_classes):\n",
    "    eeg_epochs.append(cnt_eeg_signals[start:end])\n",
    "    eeg_classes.append(event_label)\n",
    "\n",
    "print(f\"Number of segments / epochs: {len(eeg_epochs)}\")"
   ]
  },
  {
   "cell_type": "code",
   "execution_count": null,
   "metadata": {},
   "outputs": [],
   "source": [
    "fig, axs = plt.subplots(1, 4, figsize=(25, 7))\n",
    "sample_idx = [0, 20, 13, -1]\n",
    "\n",
    "for i, idx in enumerate(sample_idx):\n",
    "    sample_epoch = eeg_epochs[idx]\n",
    "    sample_class = eeg_classes[idx]\n",
    "    for t in sample_epoch.T:\n",
    "        axs[i].plot(t)\n",
    "        axs[i].set_title(f\"class label: {sample_class}\")\n",
    "        axs[i].set_xlabel(\"timesteps\")\n",
    "        axs[i].set_ylabel(\"channels\")"
   ]
  },
  {
   "attachments": {},
   "cell_type": "markdown",
   "metadata": {},
   "source": [
    "# NRIS (Near-Infrared Spectroscopy) Sample Analysis"
   ]
  },
  {
   "cell_type": "code",
   "execution_count": null,
   "metadata": {},
   "outputs": [],
   "source": [
    "nirs_data_dir = \"data/samples/NIRS\"\n",
    "nirs_sub_dirs = os.listdir(nirs_data_dir)\n",
    "nirs_sub_dir_file_dict = dict()\n",
    "\n",
    "for sub_dir in nirs_sub_dirs:\n",
    "    nirs_sub_dir_file_dict[sub_dir] = glob.glob(os.path.join(nirs_data_dir, sub_dir, \"**/*.mat\"), recursive=True)\n",
    "\n",
    "nirs_sub_dir_file_dict"
   ]
  },
  {
   "cell_type": "code",
   "execution_count": null,
   "metadata": {},
   "outputs": [],
   "source": [
    "sample_nirs = nirs_sub_dir_file_dict[\"VP001-NIRS\"]\n",
    "sample_nirs_cnt = loadmat(sample_nirs[1])[\"cnt_nback\"]\n",
    "nsample_nirs_mrk = loadmat(sample_nirs[7])[\"mrk_nback\"]"
   ]
  },
  {
   "cell_type": "code",
   "execution_count": null,
   "metadata": {},
   "outputs": [],
   "source": [
    "print(f\"NIRS cnt keys: {sample_nirs_cnt.dtype}\")\n",
    "print(f\"NIRS mrk keys: {nsample_nirs_mrk.dtype}\")"
   ]
  },
  {
   "cell_type": "code",
   "execution_count": null,
   "metadata": {},
   "outputs": [],
   "source": [
    "nirs_cnt_oxy = sample_nirs_cnt['oxy'][0][0]\n",
    "nirs_cnt_deoxy =sample_nirs_cnt ['deoxy'][0][0]"
   ]
  },
  {
   "cell_type": "code",
   "execution_count": null,
   "metadata": {},
   "outputs": [],
   "source": [
    "print(f\"NIRS cnt oxy keys: {nirs_cnt_oxy.dtype}\")\n",
    "print(f\"NIRS cnt deoxy keys: {nirs_cnt_deoxy.dtype}\")"
   ]
  },
  {
   "attachments": {},
   "cell_type": "markdown",
   "metadata": {},
   "source": [
    "### Oxygenated hemoglobin (oxy-Hb) data"
   ]
  },
  {
   "cell_type": "code",
   "execution_count": null,
   "metadata": {},
   "outputs": [],
   "source": [
    "channel_nirs_labels = nirs_cnt_oxy[\"clab\"][0][0][0]                                         # channel labels\n",
    "channel_nirs_labels = [ch.tolist()[0] for ch in channel_nirs_labels.tolist()]\n",
    "cnt_nirs_sfreq = nirs_cnt_oxy[\"fs\"][0][0][0][0]                                             # sample frequency\n",
    "cnt_nirs_signals = nirs_cnt_oxy[\"x\"][0][0]\n",
    "cnt_nirs_event_onset = nsample_nirs_mrk[\"time\"][0][0].reshape(-1)                           # event / epoch onsets (millisecs)\n",
    "cnt_nirs_event_classes = nsample_nirs_mrk[\"event\"][0][0][0][0][0].reshape(-1)               # classes\n",
    "cnt_nirs_ohe_event_classes = nsample_nirs_mrk[\"y\"][0][0].T                                  # one hot encoded classes\n",
    "cnt_nirs_class_names = nsample_nirs_mrk[\"className\"][0][0].reshape(-1)                      # class names\n",
    "zeros = np.zeros_like(cnt_nirs_ohe_event_classes, dtype=int)\n",
    "nirs_time_indices = ((cnt_nirs_event_onset / 1000) * cnt_nirs_sfreq).astype(int).tolist()   # time indices of each event onset\n",
    "nirs_time_indices.append(cnt_nirs_signals.shape[0])                                         # to capture the last segment"
   ]
  },
  {
   "cell_type": "code",
   "execution_count": null,
   "metadata": {},
   "outputs": [],
   "source": [
    "cnt_eeg_signals.shape, len(nirs_time_indices), cnt_nirs_ohe_event_classes.shape"
   ]
  },
  {
   "cell_type": "code",
   "execution_count": null,
   "metadata": {},
   "outputs": [],
   "source": [
    "cnt_nirs_event_classes, cnt_nirs_class_names"
   ]
  },
  {
   "cell_type": "code",
   "execution_count": null,
   "metadata": {},
   "outputs": [],
   "source": [
    "nirs_start_times = nirs_time_indices[:-1]\n",
    "nirs_end_times = nirs_time_indices[1:]\n",
    "\n",
    "nirs_epochs = []\n",
    "nirs_classes = []\n",
    "for start, end, event_label in zip(nirs_start_times, nirs_end_times, cnt_nirs_event_classes):\n",
    "    nirs_epochs.append(cnt_nirs_signals[start:end])\n",
    "    nirs_classes.append(event_label)\n",
    "\n",
    "print(f\"Number of segments / epochs: {len(nirs_epochs)}\")"
   ]
  },
  {
   "cell_type": "code",
   "execution_count": null,
   "metadata": {},
   "outputs": [],
   "source": [
    "fig, axs = plt.subplots(1, 4, figsize=(25, 7))\n",
    "sample_idx = [0, 5, 10, -1]\n",
    "\n",
    "for i, idx in enumerate(sample_idx):\n",
    "    sample_epoch = nirs_epochs[idx]\n",
    "    sample_class = nirs_classes[idx]\n",
    "    for t in sample_epoch.T:\n",
    "        axs[i].plot(t)\n",
    "        axs[i].set_title(f\"class label: {sample_class}\")\n",
    "        axs[i].set_xlabel(\"timesteps\")\n",
    "        axs[i].set_ylabel(\"channels\")"
   ]
  },
  {
   "attachments": {},
   "cell_type": "markdown",
   "metadata": {},
   "source": [
    "### Deoxygenated hemoglobin (deoxy-Hb) data"
   ]
  },
  {
   "cell_type": "code",
   "execution_count": null,
   "metadata": {},
   "outputs": [],
   "source": [
    "channel_nirs_labels = nirs_cnt_deoxy[\"clab\"][0][0][0]                                         # channel labels\n",
    "channel_nirs_labels = [ch.tolist()[0] for ch in channel_nirs_labels.tolist()]\n",
    "cnt_nirs_sfreq = nirs_cnt_deoxy[\"fs\"][0][0][0][0]                                             # sample frequency\n",
    "cnt_nirs_signals = nirs_cnt_deoxy[\"x\"][0][0]\n",
    "cnt_nirs_event_onset = nsample_nirs_mrk[\"time\"][0][0].reshape(-1)                           # event / epoch onsets (millisecs)\n",
    "cnt_nirs_event_classes = nsample_nirs_mrk[\"event\"][0][0][0][0][0].reshape(-1)               # classes\n",
    "cnt_nirs_ohe_event_classes = nsample_nirs_mrk[\"y\"][0][0].T                                  # one hot encoded classes\n",
    "cnt_nirs_class_names = nsample_nirs_mrk[\"className\"][0][0].reshape(-1)                      # class names\n",
    "zeros = np.zeros_like(cnt_nirs_ohe_event_classes, dtype=int)\n",
    "nirs_time_indices = ((cnt_nirs_event_onset / 1000) * cnt_nirs_sfreq).astype(int).tolist()   # time indices of each event onset\n",
    "nirs_time_indices.append(cnt_nirs_signals.shape[0])                                         # to capture the last segment"
   ]
  },
  {
   "cell_type": "code",
   "execution_count": null,
   "metadata": {},
   "outputs": [],
   "source": [
    "cnt_eeg_signals.shape, len(nirs_time_indices), cnt_nirs_ohe_event_classes.shape"
   ]
  },
  {
   "cell_type": "code",
   "execution_count": null,
   "metadata": {},
   "outputs": [],
   "source": [
    "cnt_nirs_event_classes, cnt_nirs_class_names"
   ]
  },
  {
   "cell_type": "code",
   "execution_count": null,
   "metadata": {},
   "outputs": [],
   "source": [
    "nirs_start_times = nirs_time_indices[:-1]\n",
    "nirs_end_times = nirs_time_indices[1:]\n",
    "\n",
    "nirs_epochs = []\n",
    "nirs_classes = []\n",
    "for start, end, event_label in zip(nirs_start_times, nirs_end_times, cnt_nirs_event_classes):\n",
    "    nirs_epochs.append(cnt_nirs_signals[start:end])\n",
    "    nirs_classes.append(event_label)\n",
    "\n",
    "print(f\"Number of segments / epochs: {len(nirs_epochs)}\")"
   ]
  },
  {
   "cell_type": "code",
   "execution_count": null,
   "metadata": {},
   "outputs": [],
   "source": [
    "fig, axs = plt.subplots(1, 4, figsize=(25, 7))\n",
    "sample_idx = [0, 5, 10, -1]\n",
    "\n",
    "for i, idx in enumerate(sample_idx):\n",
    "    sample_epoch = nirs_epochs[idx]\n",
    "    sample_class = nirs_classes[idx]\n",
    "    for t in sample_epoch.T:\n",
    "        axs[i].plot(t)\n",
    "        axs[i].set_title(f\"class label: {sample_class}\")\n",
    "        axs[i].set_xlabel(\"timesteps\")\n",
    "        axs[i].set_ylabel(\"channels\")"
   ]
  }
 ],
 "metadata": {
  "kernelspec": {
   "display_name": "Python 3",
   "language": "python",
   "name": "python3"
  },
  "language_info": {
   "codemirror_mode": {
    "name": "ipython",
    "version": 3
   },
   "file_extension": ".py",
   "mimetype": "text/x-python",
   "name": "python",
   "nbconvert_exporter": "python",
   "pygments_lexer": "ipython3",
   "version": "3.8.7rc1"
  },
  "orig_nbformat": 4
 },
 "nbformat": 4,
 "nbformat_minor": 2
}
